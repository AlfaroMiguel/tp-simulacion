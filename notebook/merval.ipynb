{
 "cells": [
  {
   "cell_type": "code",
   "execution_count": 48,
   "metadata": {},
   "outputs": [
    {
     "data": {
      "text/html": [
       "<div>\n",
       "<style scoped>\n",
       "    .dataframe tbody tr th:only-of-type {\n",
       "        vertical-align: middle;\n",
       "    }\n",
       "\n",
       "    .dataframe tbody tr th {\n",
       "        vertical-align: top;\n",
       "    }\n",
       "\n",
       "    .dataframe thead th {\n",
       "        text-align: right;\n",
       "    }\n",
       "</style>\n",
       "<table border=\"1\" class=\"dataframe\">\n",
       "  <thead>\n",
       "    <tr style=\"text-align: right;\">\n",
       "      <th></th>\n",
       "      <th>Fecha</th>\n",
       "      <th>Último</th>\n",
       "      <th>Apertura</th>\n",
       "      <th>Máximo</th>\n",
       "      <th>Mínimo</th>\n",
       "      <th>Vol.</th>\n",
       "      <th>% var.</th>\n",
       "    </tr>\n",
       "  </thead>\n",
       "  <tbody>\n",
       "    <tr>\n",
       "      <th>0</th>\n",
       "      <td>02.08.2019</td>\n",
       "      <td>41.359,15</td>\n",
       "      <td>41.410,98</td>\n",
       "      <td>41.651,40</td>\n",
       "      <td>40.572,68</td>\n",
       "      <td>-</td>\n",
       "      <td>-0,13%</td>\n",
       "    </tr>\n",
       "    <tr>\n",
       "      <th>1</th>\n",
       "      <td>01.08.2019</td>\n",
       "      <td>41.410,98</td>\n",
       "      <td>42.057,77</td>\n",
       "      <td>42.492,78</td>\n",
       "      <td>41.220,28</td>\n",
       "      <td>-</td>\n",
       "      <td>-1,54%</td>\n",
       "    </tr>\n",
       "    <tr>\n",
       "      <th>2</th>\n",
       "      <td>31.07.2019</td>\n",
       "      <td>42.057,77</td>\n",
       "      <td>42.463,24</td>\n",
       "      <td>42.722,32</td>\n",
       "      <td>41.804,62</td>\n",
       "      <td>-</td>\n",
       "      <td>-0,95%</td>\n",
       "    </tr>\n",
       "    <tr>\n",
       "      <th>3</th>\n",
       "      <td>30.07.2019</td>\n",
       "      <td>42.463,24</td>\n",
       "      <td>42.785,46</td>\n",
       "      <td>42.836,75</td>\n",
       "      <td>42.417,96</td>\n",
       "      <td>-</td>\n",
       "      <td>-0,75%</td>\n",
       "    </tr>\n",
       "    <tr>\n",
       "      <th>4</th>\n",
       "      <td>29.07.2019</td>\n",
       "      <td>42.785,46</td>\n",
       "      <td>41.983,74</td>\n",
       "      <td>43.069,98</td>\n",
       "      <td>41.743,16</td>\n",
       "      <td>-</td>\n",
       "      <td>1,91%</td>\n",
       "    </tr>\n",
       "  </tbody>\n",
       "</table>\n",
       "</div>"
      ],
      "text/plain": [
       "        Fecha     Último   Apertura     Máximo     Mínimo Vol.  % var.\n",
       "0  02.08.2019  41.359,15  41.410,98  41.651,40  40.572,68    -  -0,13%\n",
       "1  01.08.2019  41.410,98  42.057,77  42.492,78  41.220,28    -  -1,54%\n",
       "2  31.07.2019  42.057,77  42.463,24  42.722,32  41.804,62    -  -0,95%\n",
       "3  30.07.2019  42.463,24  42.785,46  42.836,75  42.417,96    -  -0,75%\n",
       "4  29.07.2019  42.785,46  41.983,74  43.069,98  41.743,16    -   1,91%"
      ]
     },
     "execution_count": 48,
     "metadata": {},
     "output_type": "execute_result"
    }
   ],
   "source": [
    "import pandas as pd\n",
    "\n",
    "# Cargamos los datos del índice desde el archivo .csv\n",
    "data = pd.read_csv(\"merval.csv\")\n",
    "\n",
    "# Veamos los últimos datos\n",
    "data.head()"
   ]
  },
  {
   "cell_type": "code",
   "execution_count": 49,
   "metadata": {},
   "outputs": [
    {
     "data": {
      "text/plain": [
       "2449"
      ]
     },
     "execution_count": 49,
     "metadata": {},
     "output_type": "execute_result"
    }
   ],
   "source": [
    "# Cantidad de muestras (días) que tenemos del índice MERVAL\n",
    "len(data)"
   ]
  },
  {
   "cell_type": "code",
   "execution_count": 50,
   "metadata": {},
   "outputs": [],
   "source": [
    "# Necesitamos convertir cada variación a float para poder analizar los datos ya que eran strings.\n",
    "\n",
    "data[\"% var.\"] = data[\"% var.\"].apply(lambda x: float(x.replace(\",\",\".\")[0:-1]))"
   ]
  },
  {
   "cell_type": "code",
   "execution_count": null,
   "metadata": {},
   "outputs": [],
   "source": []
  },
  {
   "cell_type": "code",
   "execution_count": null,
   "metadata": {},
   "outputs": [],
   "source": []
  }
 ],
 "metadata": {
  "kernelspec": {
   "display_name": "Python 3",
   "language": "python",
   "name": "python3"
  },
  "language_info": {
   "codemirror_mode": {
    "name": "ipython",
    "version": 3
   },
   "file_extension": ".py",
   "mimetype": "text/x-python",
   "name": "python",
   "nbconvert_exporter": "python",
   "pygments_lexer": "ipython3",
   "version": "3.7.3"
  }
 },
 "nbformat": 4,
 "nbformat_minor": 2
}
