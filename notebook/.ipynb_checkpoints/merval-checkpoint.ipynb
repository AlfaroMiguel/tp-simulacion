{
 "cells": [
  {
   "cell_type": "code",
   "execution_count": 85,
   "metadata": {},
   "outputs": [
    {
     "data": {
      "text/html": [
       "<div>\n",
       "<style scoped>\n",
       "    .dataframe tbody tr th:only-of-type {\n",
       "        vertical-align: middle;\n",
       "    }\n",
       "\n",
       "    .dataframe tbody tr th {\n",
       "        vertical-align: top;\n",
       "    }\n",
       "\n",
       "    .dataframe thead th {\n",
       "        text-align: right;\n",
       "    }\n",
       "</style>\n",
       "<table border=\"1\" class=\"dataframe\">\n",
       "  <thead>\n",
       "    <tr style=\"text-align: right;\">\n",
       "      <th></th>\n",
       "      <th>Fecha</th>\n",
       "      <th>Último</th>\n",
       "      <th>Apertura</th>\n",
       "      <th>Máximo</th>\n",
       "      <th>Mínimo</th>\n",
       "      <th>Vol.</th>\n",
       "      <th>% var.</th>\n",
       "    </tr>\n",
       "  </thead>\n",
       "  <tbody>\n",
       "    <tr>\n",
       "      <th>0</th>\n",
       "      <td>02.08.2019</td>\n",
       "      <td>41.359,15</td>\n",
       "      <td>41.410,98</td>\n",
       "      <td>41.651,40</td>\n",
       "      <td>40.572,68</td>\n",
       "      <td>-</td>\n",
       "      <td>-0,13%</td>\n",
       "    </tr>\n",
       "    <tr>\n",
       "      <th>1</th>\n",
       "      <td>01.08.2019</td>\n",
       "      <td>41.410,98</td>\n",
       "      <td>42.057,77</td>\n",
       "      <td>42.492,78</td>\n",
       "      <td>41.220,28</td>\n",
       "      <td>-</td>\n",
       "      <td>-1,54%</td>\n",
       "    </tr>\n",
       "    <tr>\n",
       "      <th>2</th>\n",
       "      <td>31.07.2019</td>\n",
       "      <td>42.057,77</td>\n",
       "      <td>42.463,24</td>\n",
       "      <td>42.722,32</td>\n",
       "      <td>41.804,62</td>\n",
       "      <td>-</td>\n",
       "      <td>-0,95%</td>\n",
       "    </tr>\n",
       "    <tr>\n",
       "      <th>3</th>\n",
       "      <td>30.07.2019</td>\n",
       "      <td>42.463,24</td>\n",
       "      <td>42.785,46</td>\n",
       "      <td>42.836,75</td>\n",
       "      <td>42.417,96</td>\n",
       "      <td>-</td>\n",
       "      <td>-0,75%</td>\n",
       "    </tr>\n",
       "    <tr>\n",
       "      <th>4</th>\n",
       "      <td>29.07.2019</td>\n",
       "      <td>42.785,46</td>\n",
       "      <td>41.983,74</td>\n",
       "      <td>43.069,98</td>\n",
       "      <td>41.743,16</td>\n",
       "      <td>-</td>\n",
       "      <td>1,91%</td>\n",
       "    </tr>\n",
       "  </tbody>\n",
       "</table>\n",
       "</div>"
      ],
      "text/plain": [
       "        Fecha     Último   Apertura     Máximo     Mínimo Vol.  % var.\n",
       "0  02.08.2019  41.359,15  41.410,98  41.651,40  40.572,68    -  -0,13%\n",
       "1  01.08.2019  41.410,98  42.057,77  42.492,78  41.220,28    -  -1,54%\n",
       "2  31.07.2019  42.057,77  42.463,24  42.722,32  41.804,62    -  -0,95%\n",
       "3  30.07.2019  42.463,24  42.785,46  42.836,75  42.417,96    -  -0,75%\n",
       "4  29.07.2019  42.785,46  41.983,74  43.069,98  41.743,16    -   1,91%"
      ]
     },
     "execution_count": 85,
     "metadata": {},
     "output_type": "execute_result"
    }
   ],
   "source": [
    "import pandas as pd\n",
    "import numpy as np\n",
    "\n",
    "# Cargamos los datos del índice desde el archivo .csv\n",
    "data = pd.read_csv(\"merval.csv\")\n",
    "\n",
    "# Veamos los últimos datos\n",
    "data.head()"
   ]
  },
  {
   "cell_type": "code",
   "execution_count": 86,
   "metadata": {},
   "outputs": [
    {
     "data": {
      "text/plain": [
       "2449"
      ]
     },
     "execution_count": 86,
     "metadata": {},
     "output_type": "execute_result"
    }
   ],
   "source": [
    "# Cantidad de muestras (días) que tenemos del índice MERVAL\n",
    "len(data)"
   ]
  },
  {
   "cell_type": "code",
   "execution_count": 87,
   "metadata": {},
   "outputs": [],
   "source": [
    "# Necesitamos convertir cada variación a float para poder analizar los datos ya que eran strings.\n",
    "data[\"% var.\"] = data[\"% var.\"].apply(lambda x: float(x.replace(\",\",\".\")[0:-1]))"
   ]
  },
  {
   "cell_type": "code",
   "execution_count": 88,
   "metadata": {},
   "outputs": [
    {
     "data": {
      "text/plain": [
       "22"
      ]
     },
     "execution_count": 88,
     "metadata": {},
     "output_type": "execute_result"
    }
   ],
   "source": [
    "# Días que el Merval se mantuvo estacionario\n",
    "# Cantidad de estados (S)\n",
    "data[data[\"% var.\"] == 0][\"% var.\"].count()"
   ]
  },
  {
   "cell_type": "code",
   "execution_count": 89,
   "metadata": {},
   "outputs": [
    {
     "data": {
      "text/plain": [
       "1312"
      ]
     },
     "execution_count": 89,
     "metadata": {},
     "output_type": "execute_result"
    }
   ],
   "source": [
    "# Días que el Merval subió\n",
    "# Cantidad de estados (U)\n",
    "data[data[\"% var.\"] > 0][\"% var.\"].count()"
   ]
  },
  {
   "cell_type": "code",
   "execution_count": 90,
   "metadata": {},
   "outputs": [
    {
     "data": {
      "text/plain": [
       "1115"
      ]
     },
     "execution_count": 90,
     "metadata": {},
     "output_type": "execute_result"
    }
   ],
   "source": [
    "# Días que el Merval bajó\n",
    "# Cantidad de estados (D)\n",
    "data[data[\"% var.\"] < 0][\"% var.\"].count()"
   ]
  },
  {
   "cell_type": "code",
   "execution_count": 91,
   "metadata": {},
   "outputs": [],
   "source": [
    "# Necesitamos saber la correlación de estados, es decir, en que estado estaba y a cual se movió\n",
    "# Para poder armar luego la matriz de transición\n",
    "# Para esto necesitamos saber en que estado estamos y cual fue el anterior\n",
    "conditions = [\n",
    "    (data[\"% var.\"] > 0),\n",
    "    (data[\"% var.\"] < 0),\n",
    "    (data[\"% var.\"] == 0)\n",
    "]\n",
    "choices = [\"U\", \"D\", \"S\"]\n",
    "data[\"Actual\"] = np.select(conditions, choices, default=\"black\")"
   ]
  },
  {
   "cell_type": "code",
   "execution_count": 94,
   "metadata": {},
   "outputs": [
    {
     "data": {
      "text/html": [
       "<div>\n",
       "<style scoped>\n",
       "    .dataframe tbody tr th:only-of-type {\n",
       "        vertical-align: middle;\n",
       "    }\n",
       "\n",
       "    .dataframe tbody tr th {\n",
       "        vertical-align: top;\n",
       "    }\n",
       "\n",
       "    .dataframe thead th {\n",
       "        text-align: right;\n",
       "    }\n",
       "</style>\n",
       "<table border=\"1\" class=\"dataframe\">\n",
       "  <thead>\n",
       "    <tr style=\"text-align: right;\">\n",
       "      <th></th>\n",
       "      <th>Fecha</th>\n",
       "      <th>Último</th>\n",
       "      <th>Apertura</th>\n",
       "      <th>Máximo</th>\n",
       "      <th>Mínimo</th>\n",
       "      <th>Vol.</th>\n",
       "      <th>% var.</th>\n",
       "      <th>Actual</th>\n",
       "    </tr>\n",
       "  </thead>\n",
       "  <tbody>\n",
       "    <tr>\n",
       "      <th>0</th>\n",
       "      <td>02.08.2019</td>\n",
       "      <td>41.359,15</td>\n",
       "      <td>41.410,98</td>\n",
       "      <td>41.651,40</td>\n",
       "      <td>40.572,68</td>\n",
       "      <td>-</td>\n",
       "      <td>-0.13</td>\n",
       "      <td>D</td>\n",
       "    </tr>\n",
       "    <tr>\n",
       "      <th>1</th>\n",
       "      <td>01.08.2019</td>\n",
       "      <td>41.410,98</td>\n",
       "      <td>42.057,77</td>\n",
       "      <td>42.492,78</td>\n",
       "      <td>41.220,28</td>\n",
       "      <td>-</td>\n",
       "      <td>-1.54</td>\n",
       "      <td>D</td>\n",
       "    </tr>\n",
       "    <tr>\n",
       "      <th>2</th>\n",
       "      <td>31.07.2019</td>\n",
       "      <td>42.057,77</td>\n",
       "      <td>42.463,24</td>\n",
       "      <td>42.722,32</td>\n",
       "      <td>41.804,62</td>\n",
       "      <td>-</td>\n",
       "      <td>-0.95</td>\n",
       "      <td>D</td>\n",
       "    </tr>\n",
       "    <tr>\n",
       "      <th>3</th>\n",
       "      <td>30.07.2019</td>\n",
       "      <td>42.463,24</td>\n",
       "      <td>42.785,46</td>\n",
       "      <td>42.836,75</td>\n",
       "      <td>42.417,96</td>\n",
       "      <td>-</td>\n",
       "      <td>-0.75</td>\n",
       "      <td>D</td>\n",
       "    </tr>\n",
       "    <tr>\n",
       "      <th>4</th>\n",
       "      <td>29.07.2019</td>\n",
       "      <td>42.785,46</td>\n",
       "      <td>41.983,74</td>\n",
       "      <td>43.069,98</td>\n",
       "      <td>41.743,16</td>\n",
       "      <td>-</td>\n",
       "      <td>1.91</td>\n",
       "      <td>U</td>\n",
       "    </tr>\n",
       "  </tbody>\n",
       "</table>\n",
       "</div>"
      ],
      "text/plain": [
       "        Fecha     Último   Apertura     Máximo     Mínimo Vol.  % var. Actual\n",
       "0  02.08.2019  41.359,15  41.410,98  41.651,40  40.572,68    -   -0.13      D\n",
       "1  01.08.2019  41.410,98  42.057,77  42.492,78  41.220,28    -   -1.54      D\n",
       "2  31.07.2019  42.057,77  42.463,24  42.722,32  41.804,62    -   -0.95      D\n",
       "3  30.07.2019  42.463,24  42.785,46  42.836,75  42.417,96    -   -0.75      D\n",
       "4  29.07.2019  42.785,46  41.983,74  43.069,98  41.743,16    -    1.91      U"
      ]
     },
     "execution_count": 94,
     "metadata": {},
     "output_type": "execute_result"
    }
   ],
   "source": [
    "# Ya tenemos una columna con el estado actual\n",
    "data.head()"
   ]
  },
  {
   "cell_type": "code",
   "execution_count": 100,
   "metadata": {},
   "outputs": [],
   "source": [
    "for i in range(1, len(data)):\n",
    "    data.loc[i-1, \"Anterior\"] = data.loc[i, \"Actual\"]"
   ]
  },
  {
   "cell_type": "code",
   "execution_count": 104,
   "metadata": {},
   "outputs": [
    {
     "data": {
      "text/html": [
       "<div>\n",
       "<style scoped>\n",
       "    .dataframe tbody tr th:only-of-type {\n",
       "        vertical-align: middle;\n",
       "    }\n",
       "\n",
       "    .dataframe tbody tr th {\n",
       "        vertical-align: top;\n",
       "    }\n",
       "\n",
       "    .dataframe thead th {\n",
       "        text-align: right;\n",
       "    }\n",
       "</style>\n",
       "<table border=\"1\" class=\"dataframe\">\n",
       "  <thead>\n",
       "    <tr style=\"text-align: right;\">\n",
       "      <th></th>\n",
       "      <th>Fecha</th>\n",
       "      <th>Último</th>\n",
       "      <th>Apertura</th>\n",
       "      <th>Máximo</th>\n",
       "      <th>Mínimo</th>\n",
       "      <th>Vol.</th>\n",
       "      <th>% var.</th>\n",
       "      <th>Actual</th>\n",
       "      <th>Anterior</th>\n",
       "    </tr>\n",
       "  </thead>\n",
       "  <tbody>\n",
       "    <tr>\n",
       "      <th>0</th>\n",
       "      <td>02.08.2019</td>\n",
       "      <td>41.359,15</td>\n",
       "      <td>41.410,98</td>\n",
       "      <td>41.651,40</td>\n",
       "      <td>40.572,68</td>\n",
       "      <td>-</td>\n",
       "      <td>-0.13</td>\n",
       "      <td>D</td>\n",
       "      <td>D</td>\n",
       "    </tr>\n",
       "    <tr>\n",
       "      <th>1</th>\n",
       "      <td>01.08.2019</td>\n",
       "      <td>41.410,98</td>\n",
       "      <td>42.057,77</td>\n",
       "      <td>42.492,78</td>\n",
       "      <td>41.220,28</td>\n",
       "      <td>-</td>\n",
       "      <td>-1.54</td>\n",
       "      <td>D</td>\n",
       "      <td>D</td>\n",
       "    </tr>\n",
       "    <tr>\n",
       "      <th>2</th>\n",
       "      <td>31.07.2019</td>\n",
       "      <td>42.057,77</td>\n",
       "      <td>42.463,24</td>\n",
       "      <td>42.722,32</td>\n",
       "      <td>41.804,62</td>\n",
       "      <td>-</td>\n",
       "      <td>-0.95</td>\n",
       "      <td>D</td>\n",
       "      <td>D</td>\n",
       "    </tr>\n",
       "    <tr>\n",
       "      <th>3</th>\n",
       "      <td>30.07.2019</td>\n",
       "      <td>42.463,24</td>\n",
       "      <td>42.785,46</td>\n",
       "      <td>42.836,75</td>\n",
       "      <td>42.417,96</td>\n",
       "      <td>-</td>\n",
       "      <td>-0.75</td>\n",
       "      <td>D</td>\n",
       "      <td>U</td>\n",
       "    </tr>\n",
       "    <tr>\n",
       "      <th>4</th>\n",
       "      <td>29.07.2019</td>\n",
       "      <td>42.785,46</td>\n",
       "      <td>41.983,74</td>\n",
       "      <td>43.069,98</td>\n",
       "      <td>41.743,16</td>\n",
       "      <td>-</td>\n",
       "      <td>1.91</td>\n",
       "      <td>U</td>\n",
       "      <td>U</td>\n",
       "    </tr>\n",
       "  </tbody>\n",
       "</table>\n",
       "</div>"
      ],
      "text/plain": [
       "        Fecha     Último   Apertura     Máximo     Mínimo Vol.  % var. Actual  \\\n",
       "0  02.08.2019  41.359,15  41.410,98  41.651,40  40.572,68    -   -0.13      D   \n",
       "1  01.08.2019  41.410,98  42.057,77  42.492,78  41.220,28    -   -1.54      D   \n",
       "2  31.07.2019  42.057,77  42.463,24  42.722,32  41.804,62    -   -0.95      D   \n",
       "3  30.07.2019  42.463,24  42.785,46  42.836,75  42.417,96    -   -0.75      D   \n",
       "4  29.07.2019  42.785,46  41.983,74  43.069,98  41.743,16    -    1.91      U   \n",
       "\n",
       "  Anterior  \n",
       "0        D  \n",
       "1        D  \n",
       "2        D  \n",
       "3        U  \n",
       "4        U  "
      ]
     },
     "execution_count": 104,
     "metadata": {},
     "output_type": "execute_result"
    }
   ],
   "source": [
    "# Ahora ya tenemos en cada estado cual fue el anterior, ya tenemos todos los datos para calcular nuestra matriz\n",
    "data.head()"
   ]
  },
  {
   "cell_type": "code",
   "execution_count": 122,
   "metadata": {},
   "outputs": [
    {
     "data": {
      "text/plain": [
       "Fecha       736\n",
       "Último      736\n",
       "Apertura    736\n",
       "Máximo      736\n",
       "Mínimo      736\n",
       "Vol.        736\n",
       "% var.      736\n",
       "Actual      736\n",
       "Anterior    736\n",
       "dtype: int64"
      ]
     },
     "execution_count": 122,
     "metadata": {},
     "output_type": "execute_result"
    }
   ],
   "source": [
    "# Procedemos a obtener los datos para armar la matriz\n",
    "# Cantidad de transiciones del estado U al estado U.\n",
    "\n",
    "data[(data[\"Anterior\"] == \"U\") & (data[\"Actual\"] == \"U\")].count()"
   ]
  },
  {
   "cell_type": "code",
   "execution_count": 123,
   "metadata": {},
   "outputs": [
    {
     "data": {
      "text/plain": [
       "Fecha       15\n",
       "Último      15\n",
       "Apertura    15\n",
       "Máximo      15\n",
       "Mínimo      15\n",
       "Vol.        15\n",
       "% var.      15\n",
       "Actual      15\n",
       "Anterior    15\n",
       "dtype: int64"
      ]
     },
     "execution_count": 123,
     "metadata": {},
     "output_type": "execute_result"
    }
   ],
   "source": [
    "# Cantidad de transiciones del estado U al estado S.\n",
    "data[(data[\"Anterior\"] == \"U\") & (data[\"Actual\"] == \"S\")].count()"
   ]
  },
  {
   "cell_type": "code",
   "execution_count": 124,
   "metadata": {},
   "outputs": [
    {
     "data": {
      "text/plain": [
       "Fecha       561\n",
       "Último      561\n",
       "Apertura    561\n",
       "Máximo      561\n",
       "Mínimo      561\n",
       "Vol.        561\n",
       "% var.      561\n",
       "Actual      561\n",
       "Anterior    561\n",
       "dtype: int64"
      ]
     },
     "execution_count": 124,
     "metadata": {},
     "output_type": "execute_result"
    }
   ],
   "source": [
    "# Cantidad de transiciones del estado U al estado D.\n",
    "data[(data[\"Anterior\"] == \"U\") & (data[\"Actual\"] == \"D\")].count()"
   ]
  },
  {
   "cell_type": "code",
   "execution_count": 125,
   "metadata": {},
   "outputs": [
    {
     "data": {
      "text/plain": [
       "Fecha       11\n",
       "Último      11\n",
       "Apertura    11\n",
       "Máximo      11\n",
       "Mínimo      11\n",
       "Vol.        11\n",
       "% var.      11\n",
       "Actual      11\n",
       "Anterior    11\n",
       "dtype: int64"
      ]
     },
     "execution_count": 125,
     "metadata": {},
     "output_type": "execute_result"
    }
   ],
   "source": [
    "# Cantidad de transiciones del estado S al estado U.\n",
    "data[(data[\"Anterior\"] == \"S\") & (data[\"Actual\"] == \"U\")].count()"
   ]
  },
  {
   "cell_type": "code",
   "execution_count": 126,
   "metadata": {},
   "outputs": [
    {
     "data": {
      "text/plain": [
       "Fecha       1\n",
       "Último      1\n",
       "Apertura    1\n",
       "Máximo      1\n",
       "Mínimo      1\n",
       "Vol.        1\n",
       "% var.      1\n",
       "Actual      1\n",
       "Anterior    1\n",
       "dtype: int64"
      ]
     },
     "execution_count": 126,
     "metadata": {},
     "output_type": "execute_result"
    }
   ],
   "source": [
    "# Cantidad de transiciones del estado S al estado S.\n",
    "data[(data[\"Anterior\"] == \"S\") & (data[\"Actual\"] == \"S\")].count()"
   ]
  },
  {
   "cell_type": "code",
   "execution_count": 127,
   "metadata": {},
   "outputs": [
    {
     "data": {
      "text/plain": [
       "Fecha       10\n",
       "Último      10\n",
       "Apertura    10\n",
       "Máximo      10\n",
       "Mínimo      10\n",
       "Vol.        10\n",
       "% var.      10\n",
       "Actual      10\n",
       "Anterior    10\n",
       "dtype: int64"
      ]
     },
     "execution_count": 127,
     "metadata": {},
     "output_type": "execute_result"
    }
   ],
   "source": [
    "# Cantidad de transiciones del estado S al estado D.\n",
    "data[(data[\"Anterior\"] == \"S\") & (data[\"Actual\"] == \"D\")].count()"
   ]
  },
  {
   "cell_type": "code",
   "execution_count": 128,
   "metadata": {},
   "outputs": [
    {
     "data": {
      "text/plain": [
       "Fecha       565\n",
       "Último      565\n",
       "Apertura    565\n",
       "Máximo      565\n",
       "Mínimo      565\n",
       "Vol.        565\n",
       "% var.      565\n",
       "Actual      565\n",
       "Anterior    565\n",
       "dtype: int64"
      ]
     },
     "execution_count": 128,
     "metadata": {},
     "output_type": "execute_result"
    }
   ],
   "source": [
    "# Cantidad de transiciones del estado D al estado U.\n",
    "data[(data[\"Anterior\"] == \"D\") & (data[\"Actual\"] == \"U\")].count()"
   ]
  },
  {
   "cell_type": "code",
   "execution_count": 129,
   "metadata": {},
   "outputs": [
    {
     "data": {
      "text/plain": [
       "Fecha       6\n",
       "Último      6\n",
       "Apertura    6\n",
       "Máximo      6\n",
       "Mínimo      6\n",
       "Vol.        6\n",
       "% var.      6\n",
       "Actual      6\n",
       "Anterior    6\n",
       "dtype: int64"
      ]
     },
     "execution_count": 129,
     "metadata": {},
     "output_type": "execute_result"
    }
   ],
   "source": [
    "# Cantidad de transiciones del estado D al estado S.\n",
    "data[(data[\"Anterior\"] == \"D\") & (data[\"Actual\"] == \"S\")].count()"
   ]
  },
  {
   "cell_type": "code",
   "execution_count": 130,
   "metadata": {},
   "outputs": [
    {
     "data": {
      "text/plain": [
       "Fecha       543\n",
       "Último      543\n",
       "Apertura    543\n",
       "Máximo      543\n",
       "Mínimo      543\n",
       "Vol.        543\n",
       "% var.      543\n",
       "Actual      543\n",
       "Anterior    543\n",
       "dtype: int64"
      ]
     },
     "execution_count": 130,
     "metadata": {},
     "output_type": "execute_result"
    }
   ],
   "source": [
    "# Cantidad de transiciones del estado D al estado D.\n",
    "data[(data[\"Anterior\"] == \"D\") & (data[\"Actual\"] == \"D\")].count()"
   ]
  },
  {
   "cell_type": "code",
   "execution_count": 137,
   "metadata": {},
   "outputs": [
    {
     "data": {
      "text/plain": [
       "matrix([[736,  15, 561],\n",
       "        [ 11,   1,  10],\n",
       "        [565,   6, 543]])"
      ]
     },
     "execution_count": 137,
     "metadata": {},
     "output_type": "execute_result"
    }
   ],
   "source": [
    "# Ya podemos armar la matriz de cantidad de estados\n",
    "\n",
    "matriz_estados = np.matrix([[736,15,561], [11, 1, 10], [565, 6, 543]])\n",
    "matriz_estados"
   ]
  },
  {
   "cell_type": "code",
   "execution_count": null,
   "metadata": {},
   "outputs": [],
   "source": []
  },
  {
   "cell_type": "code",
   "execution_count": null,
   "metadata": {},
   "outputs": [],
   "source": []
  }
 ],
 "metadata": {
  "kernelspec": {
   "display_name": "Python 3",
   "language": "python",
   "name": "python3"
  },
  "language_info": {
   "codemirror_mode": {
    "name": "ipython",
    "version": 3
   },
   "file_extension": ".py",
   "mimetype": "text/x-python",
   "name": "python",
   "nbconvert_exporter": "python",
   "pygments_lexer": "ipython3",
   "version": "3.7.3"
  }
 },
 "nbformat": 4,
 "nbformat_minor": 2
}
